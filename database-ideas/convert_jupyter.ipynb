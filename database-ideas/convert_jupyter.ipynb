{
 "cells": [
  {
   "cell_type": "code",
   "execution_count": null,
   "id": "3952eee3-d1a3-463a-afc0-4ba55bf12ddd",
   "metadata": {},
   "outputs": [],
   "source": [
    "import csv\n",
    "from pathlib import Path\n",
    "import requests\n",
    "import sqlalchemy\n",
    "import pandas as pd\n",
    "from sqlalchemy import create_engine, MetaData\n",
    "from sqlalchemy.dialects.postgresql import insert\n",
    "#from sqlalchemy.sql import table, column, select, update, insert"
   ]
  },
  {
   "cell_type": "code",
   "execution_count": null,
   "id": "3ef9d8b5-8d80-4886-97a1-00930421d4b6",
   "metadata": {},
   "outputs": [],
   "source": [
    "engine = create_engine('postgresql+psycopg2://<user>:<password>@localhost:<port>/POIU_Analytics', connect_args={'options': '-csearch-path={}'.format('poiu-comparison')})"
   ]
  },
  {
   "cell_type": "code",
   "execution_count": null,
   "id": "1f4ba235-8ea8-43e1-908a-8d369c456b47",
   "metadata": {},
   "outputs": [],
   "source": [
    "conn = engine.connect()"
   ]
  },
  {
   "cell_type": "code",
   "execution_count": null,
   "id": "57350569-ef55-48bf-a11e-2990259f45ba",
   "metadata": {},
   "outputs": [],
   "source": [
    "engine.dispose()"
   ]
  },
  {
   "cell_type": "code",
   "execution_count": null,
   "id": "e316f7c6-07e5-4f3f-addb-121f8eae98c6",
   "metadata": {},
   "outputs": [],
   "source": [
    "conn.close()"
   ]
  },
  {
   "cell_type": "code",
   "execution_count": null,
   "id": "3eaf2bf9-0c04-48f8-af47-8b6081414670",
   "metadata": {},
   "outputs": [],
   "source": [
    "## Change to False to disable Sample\n",
    "SHOW = True\n",
    "\n",
    "# I want to test this on a single game first\n",
    "TEST_GAME_ID = 20001.0\n",
    "TEST_GAME_SEASON = 2023.0\n"
   ]
  },
  {
   "cell_type": "code",
   "execution_count": null,
   "id": "65890e1f-a963-4ebc-94d8-c801ea96c686",
   "metadata": {},
   "outputs": [],
   "source": []
  },
  {
   "cell_type": "code",
   "execution_count": null,
   "id": "27d679e9-07f4-4168-85a5-39faed9cdd8c",
   "metadata": {},
   "outputs": [],
   "source": [
    "# helpers\n",
    "def get_full_game_id(partial_id, season):\n",
    "    return f\"{int(season)}0{int(partial_id)}\""
   ]
  },
  {
   "cell_type": "code",
   "execution_count": null,
   "id": "ca7d540b-39b8-422f-b737-b0d635b24f30",
   "metadata": {},
   "outputs": [],
   "source": [
    "# is numeric wasn't perfect.\n",
    "def is_number(value):\n",
    "    try:\n",
    "        float(value)\n",
    "        return True\n",
    "    except ValueError:\n",
    "        return False"
   ]
  },
  {
   "cell_type": "code",
   "execution_count": null,
   "id": "15de6569-a6ac-473e-a5c9-cb878759c25b",
   "metadata": {},
   "outputs": [],
   "source": [
    "def convert_minute_format_to_seconds(string_time_value):\n",
    "    # fix this handle none values better.\n",
    "    if string_time_value is None:\n",
    "        return 0.0\n",
    "    minutes, seconds = string_time_value.split(':')\n",
    "    total_time = float(minutes)*60 + float(seconds)\n",
    "    return float(total_time)"
   ]
  },
  {
   "cell_type": "code",
   "execution_count": null,
   "id": "115bcffe-6680-4434-9fa0-13549da69ddf",
   "metadata": {},
   "outputs": [],
   "source": [
    "def make_rows_values_correct_type(row):\n",
    "    # row is a on object because of the dictreader here.\n",
    "    # essentially just converts numbers to floats\n",
    "    # and keeps the strings the same.\n",
    "    for key in row.keys():\n",
    "        value = row[key]\n",
    "        if is_number(value):\n",
    "            row[key] = float(value)\n",
    "\n",
    "    return row"
   ]
  },
  {
   "cell_type": "code",
   "execution_count": null,
   "id": "5a67f92d-1a06-48e3-93bf-9241577f0fbf",
   "metadata": {},
   "outputs": [],
   "source": [
    "def get_shots_file_path():\n",
    "    cwd = Path.cwd()\n",
    "    shots_file_path = cwd.parent / \"data\" / \"shots\" / \"shots_2023_2024.csv\"\n",
    "    return shots_file_path"
   ]
  },
  {
   "cell_type": "code",
   "execution_count": null,
   "id": "ed540304-b489-4228-b676-aa85b303db04",
   "metadata": {},
   "outputs": [],
   "source": [
    "print(get_shots_file_path())"
   ]
  },
  {
   "cell_type": "code",
   "execution_count": null,
   "id": "6f02ca0e-8d48-48a8-bfcd-d4207c569cca",
   "metadata": {},
   "outputs": [],
   "source": [
    "# the meat of the parsing.\n",
    "def import_shot_game_data(shots_file):\n",
    "    print(\"importing shots...\")\n",
    "\n",
    "    all_shot_rows = []\n",
    "    with open(shots_file, newline='') as csvfile:\n",
    "        reader = csv.DictReader(csvfile)  # Uses the first line as column headers\n",
    "\n",
    "        for row in reader:\n",
    "            # converts string numbers and all nubmers to float\n",
    "            row_clean = make_rows_values_correct_type(row)\n",
    "            # skip if not in test game id remove when serious\n",
    "            if row_clean[\"game_id\"] != TEST_GAME_ID:\n",
    "                continue\n",
    "\n",
    "\n",
    "            all_shot_rows.append(row_clean)\n",
    "    # get the shot data from ../data/shots/\n",
    "    return all_shot_rows"
   ]
  },
  {
   "cell_type": "code",
   "execution_count": null,
   "id": "2c600982-011d-4050-a87d-e87f56bba647",
   "metadata": {},
   "outputs": [],
   "source": [
    "# note we'll have to be carful with this to not ddos them\n",
    "def import_shift_data(game_id, season):\n",
    "    print(\"importing shifts...\")\n",
    "    # URL building\n",
    "    full_game_id = get_full_game_id(game_id, season)\n",
    "    full_url = f\"https://api.nhle.com/stats/rest/en/shiftcharts?cayenneExp=gameId={full_game_id}\"\n",
    "\n",
    "    #print(full_url)\n",
    "    response = requests.get(full_url)\n",
    "\n",
    "    full_shift_data = response.json()\n",
    "    #print(full_shift_data[\"data\"])\n",
    "    # need to get the times of shifts in numbers\n",
    "    # this is needed for the money puck data.\n",
    "    for index, shift in enumerate(full_shift_data[\"data\"]):\n",
    "        #print(index)\n",
    "        start_time_number = convert_minute_format_to_seconds(shift[\"startTime\"])\n",
    "        end_time_number = convert_minute_format_to_seconds(shift[\"endTime\"])\n",
    "        duration_number = convert_minute_format_to_seconds(shift[\"duration\"])\n",
    "\n",
    "        # update the\n",
    "        full_shift_data[\"data\"][index][\"startTimeNumber\"] = start_time_number\n",
    "        full_shift_data[\"data\"][index][\"endTimeNumber\"] = end_time_number\n",
    "        full_shift_data[\"data\"][index][\"durationNumber\"] = duration_number\n",
    "        \n",
    "    return full_shift_data[\"data\"]"
   ]
  },
  {
   "cell_type": "code",
   "execution_count": null,
   "id": "f818dab5-ab7a-4f14-8320-d4b03844042b",
   "metadata": {},
   "outputs": [],
   "source": [
    "def assign_players_on_ice_to_shots(shot_data, shift_data):\n",
    "    print(\"assigning player shifts to shots...\")\n",
    "    for index, shot in enumerate(shot_data):\n",
    "        players_for, players_against = get_players_on_ice_for_shot(shot, shift_data)\n",
    "        \n",
    "        shot_data[index][\"playersOnIceFor\"] = players_for\n",
    "        shot_data[index][\"playersOnIceAgainst\"] = players_against\n",
    "\n",
    "    return shot_data\n"
   ]
  },
  {
   "cell_type": "code",
   "execution_count": null,
   "id": "ced53ebb-c9c5-43c6-9bb1-ab1a7fdd191b",
   "metadata": {},
   "outputs": [],
   "source": [
    "# there's probably a better way of doing this with sets\n",
    "# but if we need to process it once and then have the data then we should be good.\n",
    "def get_players_on_ice_for_shot(shot, shift_data):\n",
    "    players_for = []\n",
    "    players_against = []\n",
    "    period = shot[\"period\"]\n",
    "    shot_time = shot[\"time\"]\n",
    "    for shift in shift_data:\n",
    "        if not (shift[\"startTimeNumber\"] < shot_time\n",
    "            and shift[\"endTimeNumber\"] > shot_time\n",
    "            and shift[\"period\"] == period):\n",
    "            continue\n",
    "\n",
    "        if shot[\"teamCode\"] == shift[\"teamAbbrev\"]:\n",
    "            players_for.append(shift)\n",
    "        else:\n",
    "            players_against.append(shift)\n",
    "\n",
    "    #players_for.sort()\n",
    "    #players_against.sort()\n",
    "\n",
    "    return players_for, players_against"
   ]
  },
  {
   "cell_type": "code",
   "execution_count": null,
   "id": "b41f386d-85e7-435b-a492-a1f6adef4e7e",
   "metadata": {},
   "outputs": [],
   "source": [
    "class shot_db_sql():\n",
    "\n",
    "    def create_connection(self, path):\n",
    "        connection = None\n",
    "        try:\n",
    "            #connection = psycopg2.connect(database= \"postgres\",\n",
    "            #                                user=\"postgres\",\n",
    "            #                                host=\"127.0.0.1\",\n",
    "            #                                port=\"5050\")\n",
    "            #connection.text_factory = str\n",
    "            connection = engine.connect()\n",
    "        except Error as e:\n",
    "            print(\"Error occurred: \" + str(e))\n",
    "    \n",
    "        return connection\n",
    "\n",
    "    def execute_query(self, connection, query):\n",
    "        cursor = connection.cursor()\n",
    "        try:\n",
    "            if query == \"\":\n",
    "                return \"Query Blank\"\n",
    "            else:\n",
    "                cursor.execute(query)\n",
    "                connection.commit()\n",
    "                return \"Query executed successfully\"\n",
    "        except Error as e:\n",
    "            return \"Error occurred: \" + str(e)\n",
    "\n",
    "\n",
    "    def load_shot_data_reader(self,connection,shots_file):\n",
    "\n",
    "        all_shots = import_shot_game_data(shots_file) \n",
    "        #all_shots = get_shots_file_path()\n",
    "        \n",
    "        all_shifts = import_shift_data(TEST_GAME_ID, TEST_GAME_SEASON)\n",
    "\n",
    "        #if all_shots and all_shifts:\n",
    "        if all_shifts:\n",
    "            for x in all_shots:\n",
    "\n",
    "                players_for_id = []\n",
    "                players_against_id = []\n",
    "                \n",
    "                players_for, players_against = get_players_on_ice_for_shot(x, all_shifts)\n",
    "                #print(players_for['id'])\n",
    "                #print(players_against['id'])\n",
    "                for player in players_for:\n",
    "                    #print(player['id'])\n",
    "                    if player['id'] not in players_for_id:\n",
    "                        players_for_id.append(player['id'])\n",
    "\n",
    "                for player in players_against:\n",
    "                    if player['id'] not in players_against_id:\n",
    "                        players_against_id.append(player['id'])\n",
    "                        \n",
    "\n",
    "\n",
    "                #print(players_for_id)\n",
    "                players_for_id.sort()\n",
    "                players_against_id.sort()\n",
    "\n",
    "                print(players_for_id)\n",
    "                print(players_against_id)\n",
    "\n",
    "\n",
    "\n",
    "                while len(players_for_id) < 6:\n",
    "                    players_for_id.append(-1)\n",
    "                while len(players_against_id) < 6:\n",
    "                    players_against_id.append(-1)\n",
    "                meta = MetaData()\n",
    "                meta.reflect(bind=engine)\n",
    "                poiu_table = meta.tables['poiu']\n",
    "                try:\n",
    "                    insert_table = insert(poiu_table).values(playerid1=players_for_id[0],playerid2=players_for_id[1],playerid3=players_for_id[2],playerid4=players_for_id[3],playerid5=players_for_id[4],playerid6=players_for_id[5])\n",
    "                    insert_table = insert_table.on_conflict_do_nothing(\n",
    "                        #index_elements=['playerid1','playerid2','playerid3','playerid4','playerid5','playerid6']\n",
    "                        #index_elements=['poiu_unq']\n",
    "                        )\n",
    "                    conn.execute(insert_table)\n",
    "                except Exception as e:\n",
    "                 print(\"Error in Querying Total Shots\")\n",
    "                 print(e)\n",
    "                #connection.commit()\n",
    "        \n",
    "        \n",
    "        conn.commit()\n",
    "        #conn.close()\n",
    "       ######################################################################\n"
   ]
  },
  {
   "cell_type": "markdown",
   "id": "89d6fdf1-fbfe-479e-8c06-26bea8839660",
   "metadata": {},
   "source": [
    "meta = MetaData()\n",
    "meta.reflect(bind=engine)\n",
    "poiu_table = meta.tables['poiu']\n",
    "print(poiu_table.columns)"
   ]
  },
  {
   "cell_type": "code",
   "execution_count": null,
   "id": "fbb34120-95a5-4da9-9a24-00b50a2b7eb7",
   "metadata": {},
   "outputs": [],
   "source": [
    "if __name__ == \"__main__\":\n",
    "    \n",
    "    #print('\\033[32m' + \"Shot and Shift Data Upload: \" + '\\033[m')\n",
    "    db = shot_db_sql()\n",
    "\n",
    "\n",
    "    try:\n",
    "        conn = db.create_connection()\n",
    "    except:\n",
    "        print(\"Database Connection Error\")\n",
    "\n",
    "    shots_file = get_shots_file_path()\n",
    "\n",
    "    try:\n",
    "        print('\\033[32m' + \"Total shots loaded: \" + '\\033[m' + str(db.load_shot_data_reader(conn,shots_file)))\n",
    "    except Exception as e:\n",
    "         print(\"Error in Querying Total Shots\")\n",
    "         print(e)\n",
    "\n",
    "\n",
    "    conn.close()"
   ]
  },
  {
   "cell_type": "code",
   "execution_count": null,
   "id": "6546814c-6c9f-47a1-a676-5dd83e8aa78a",
   "metadata": {},
   "outputs": [],
   "source": [
    "#connection = psycopg2.connect(database= \"POIU_Analytics\", user=\"tyler\", host=\"127.0.0.1\", port=\"5050\")"
   ]
  },
  {
   "cell_type": "code",
   "execution_count": null,
   "id": "a06da749-33bd-4274-ac97-f6355c18a7ce",
   "metadata": {},
   "outputs": [],
   "source": []
  }
 ],
 "metadata": {
  "kernelspec": {
   "display_name": "Python 3 (ipykernel)",
   "language": "python",
   "name": "python3"
  },
  "language_info": {
   "codemirror_mode": {
    "name": "ipython",
    "version": 3
   },
   "file_extension": ".py",
   "mimetype": "text/x-python",
   "name": "python",
   "nbconvert_exporter": "python",
   "pygments_lexer": "ipython3",
   "version": "3.12.7"
  }
 },
 "nbformat": 4,
 "nbformat_minor": 5
}
