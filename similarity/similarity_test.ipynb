{
 "cells": [
  {
   "cell_type": "code",
   "execution_count": 78,
   "metadata": {},
   "outputs": [],
   "source": [
    "import pandas as pd\n",
    "import numpy as np\n",
    "from sklearn.preprocessing import StandardScaler\n",
    "from sklearn.neighbors import NearestNeighbors\n",
    "from sklearn.cluster import KMeans\n",
    "from sklearn.metrics import silhouette_score"
   ]
  },
  {
   "cell_type": "code",
   "execution_count": 753,
   "metadata": {},
   "outputs": [],
   "source": [
    "!pip freeze > requirements.txt"
   ]
  },
  {
   "cell_type": "code",
   "execution_count": 190,
   "metadata": {},
   "outputs": [],
   "source": [
    "# Function to calculate the precision of knn label predictions for the k nearest neighbors\n",
    "def precision_at_k(knn_indices, cluster_labels, k):\n",
    "    precision_scores = []\n",
    "    for i, neighbors in enumerate(knn_indices):\n",
    "        true_label = cluster_labels[i]\n",
    "        retrieved_labels = [cluster_labels[j] for j in neighbors[1:k+1]]  \n",
    "        relevant_count = sum(1 for label in retrieved_labels if label == true_label)\n",
    "        precision_scores.append(relevant_count / k)\n",
    "    return sum(precision_scores) / len(precision_scores)"
   ]
  },
  {
   "cell_type": "markdown",
   "metadata": {},
   "source": [
    "### Method on Shot Data"
   ]
  },
  {
   "cell_type": "code",
   "execution_count": 737,
   "metadata": {},
   "outputs": [],
   "source": [
    "shot_data = pd.read_csv(\"shot_data_with_poiu.csv\")"
   ]
  },
  {
   "cell_type": "code",
   "execution_count": 738,
   "metadata": {},
   "outputs": [],
   "source": [
    "shot_data = shot_data[shot_data.situation == '5on5']"
   ]
  },
  {
   "cell_type": "code",
   "execution_count": 739,
   "metadata": {},
   "outputs": [],
   "source": [
    "offense_cols = [\n",
    "    'shooting_poiu_id', 'xGoal', 'goal','shotDistance',\n",
    "     'shotWasOnGoal'\n",
    "]\n",
    "\n",
    "defense_cols = [\n",
    "    'defending_poiu_id', 'xGoal', 'goal', 'shotDistance',\n",
    "    'shotWasOnGoal',\n",
    "]\n",
    "\n",
    "df_encoded = pd.get_dummies(shot_data, columns=['shotType'])\n",
    "\n",
    "offensive_stats = (\n",
    "    df_encoded[offense_cols + [col for col in df_encoded.columns if col.startswith('shotType_')]]\n",
    "    .groupby(['shooting_poiu_id'])\n",
    "    .agg(['mean', 'sum']) \n",
    ")\n",
    "\n",
    "defensive_stats = (\n",
    "    df_encoded[defense_cols + [col for col in df_encoded.columns if col.startswith('shotType_')]]\n",
    "    .groupby(['defending_poiu_id'])\n",
    "    .agg(['mean', 'sum'])\n",
    ")"
   ]
  },
  {
   "cell_type": "code",
   "execution_count": 740,
   "metadata": {},
   "outputs": [],
   "source": [
    "offensive_stats.columns = [f\"{col[0]}_{col[1]}\" for col in offensive_stats.columns]\n",
    "offensive_stats['num_shots'] = shot_data.groupby('shooting_poiu_id').size()\n",
    "offensive_stats.reset_index(inplace=True)\n",
    "\n",
    "defensive_stats.columns = [f\"{col[0]}_{col[1]}\" for col in defensive_stats.columns]\n",
    "defensive_stats['num_shots'] = shot_data.groupby('defending_poiu_id').size()\n",
    "defensive_stats.reset_index(inplace=True)\n"
   ]
  },
  {
   "cell_type": "code",
   "execution_count": 741,
   "metadata": {},
   "outputs": [],
   "source": [
    "offensive_stats.rename(columns={\"shooting_poiu_id\": \"poiu_id\"}, inplace=True)\n",
    "defensive_stats.rename(columns={\"defending_poiu_id\": \"poiu_id\"}, inplace=True)\n"
   ]
  },
  {
   "cell_type": "code",
   "execution_count": 742,
   "metadata": {},
   "outputs": [],
   "source": [
    "offensive_stats = offensive_stats.drop(columns=[\"shotDistance_sum\"])\n",
    "defensive_stats = defensive_stats.drop(columns=[\"shotDistance_sum\"])"
   ]
  },
  {
   "cell_type": "code",
   "execution_count": 743,
   "metadata": {},
   "outputs": [],
   "source": [
    "merged_df = pd.merge(\n",
    "    offensive_stats, defensive_stats, \n",
    "    on = \"poiu_id\",\n",
    "    how=\"outer\", suffixes=('_offense', '_defense'))\n",
    "merged_df.fillna(0, inplace=True)"
   ]
  },
  {
   "cell_type": "code",
   "execution_count": 744,
   "metadata": {},
   "outputs": [],
   "source": [
    "merged_df[\"corsi\"] = merged_df[\"num_shots_offense\"] - merged_df[\"num_shots_defense\"]"
   ]
  },
  {
   "cell_type": "code",
   "execution_count": 745,
   "metadata": {},
   "outputs": [],
   "source": [
    "merged_df[\"total_shots\"] = merged_df[\"num_shots_defense\"] + merged_df[\"num_shots_offense\"]"
   ]
  },
  {
   "cell_type": "code",
   "execution_count": 714,
   "metadata": {},
   "outputs": [],
   "source": [
    "filtered_df = merged_df[merged_df.total_shots > 1]"
   ]
  },
  {
   "cell_type": "code",
   "execution_count": 746,
   "metadata": {},
   "outputs": [],
   "source": [
    "cols = list(merged_df.columns)\n",
    "cols = [col for col in cols if col not in [\"poiu_id\", \"total_shots\"]]"
   ]
  },
  {
   "cell_type": "code",
   "execution_count": 747,
   "metadata": {},
   "outputs": [],
   "source": [
    "poiu_ids = merged_df['poiu_id']"
   ]
  },
  {
   "cell_type": "code",
   "execution_count": 748,
   "metadata": {},
   "outputs": [],
   "source": [
    "X = merged_df[cols]\n",
    "scaler = StandardScaler()\n",
    "X_scaled = scaler.fit_transform(X)"
   ]
  },
  {
   "cell_type": "code",
   "execution_count": 719,
   "metadata": {},
   "outputs": [
    {
     "data": {
      "image/png": "[encoded data removed]",
      "text/plain": [
       "<Figure size 600x400 with 1 Axes>"
      ]
     },
     "metadata": {},
     "output_type": "display_data"
    }
   ],
   "source": [
    "from sklearn.decomposition import PCA\n",
    "import matplotlib.pyplot as plt\n",
    "\n",
    "pca = PCA()\n",
    "X_pca = pca.fit_transform(X_scaled)\n",
    "\n",
    "plt.figure(figsize=(6, 4))\n",
    "plt.plot(range(1, len(pca.explained_variance_ratio_)+1),\n",
    "         pca.explained_variance_ratio_.cumsum(),\n",
    "         marker='o')\n",
    "plt.title('Explained Variance by PCA Components')\n",
    "plt.xlabel('Number of Components')\n",
    "plt.ylabel('Explained Variance')\n",
    "plt.grid(True)\n",
    "plt.show()"
   ]
  },
  {
   "cell_type": "code",
   "execution_count": 749,
   "metadata": {},
   "outputs": [],
   "source": [
    "pca = PCA(n_components=.9)\n",
    "X_reduced = pca.fit_transform(X_scaled)"
   ]
  },
  {
   "cell_type": "code",
   "execution_count": null,
   "metadata": {},
   "outputs": [
    {
     "data": {
      "image/png": "[encoded data removed]",
      "text/plain": [
       "<Figure size 1000x500 with 1 Axes>"
      ]
     },
     "metadata": {},
     "output_type": "display_data"
    }
   ],
   "source": [
    "sil_scores = []\n",
    "prec_at_k_scores = []\n",
    "k_values = [25]\n",
    "\n",
    "for k in k_values:\n",
    "    kmeans = KMeans(n_clusters=k, random_state=5)\n",
    "    cluster_labels = kmeans.fit_predict(X_reduced)\n",
    "\n",
    "    sil = silhouette_score(X_scaled, cluster_labels, metric=\"cosine\")\n",
    "    sil_scores.append(sil)\n",
    "\n",
    "    knn = NearestNeighbors(n_neighbors=6, metric=\"cosine\")\n",
    "    knn.fit(X_scaled)\n",
    "    _, indices = knn.kneighbors(X_scaled)\n",
    "\n",
    "    prec_k = precision_at_k(indices, cluster_labels, k=6)\n",
    "    prec_at_k_scores.append(prec_k)\n",
    "\n",
    "plt.figure(figsize=(10, 5))\n",
    "plt.plot(k_values, sil_scores, label=\"Silhouette Score\", marker='o')\n",
    "plt.plot(k_values, prec_at_k_scores, label=\"Precision@k\", marker='o')\n",
    "plt.title(\"Silhouette Score and Precision@k vs Number of Clusters\")\n",
    "plt.xlabel(\"Number of Clusters\")\n",
    "plt.ylabel(\"Score\")\n",
    "plt.legend()\n",
    "plt.grid(True)\n",
    "plt.show()"
   ]
  },
  {
   "cell_type": "code",
   "execution_count": 752,
   "metadata": {},
   "outputs": [
    {
     "data": {
      "image/png": "[encoded data removed]",
      "text/plain": [
       "<Figure size 1000x500 with 1 Axes>"
      ]
     },
     "metadata": {},
     "output_type": "display_data"
    }
   ],
   "source": [
    "sil_scores = []\n",
    "prec_at_k_scores = []\n",
    "k_values = [25]\n",
    "\n",
    "for k in k_values:\n",
    "    kmeans = KMeans(n_clusters=k, random_state=5)\n",
    "    cluster_labels = kmeans.fit_predict(X_reduced)\n",
    "\n",
    "    sil = silhouette_score(X_scaled, cluster_labels, metric=\"cosine\")\n",
    "    sil_scores.append(sil)\n",
    "\n",
    "    knn = NearestNeighbors(n_neighbors=5, metric=\"cosine\")\n",
    "    knn.fit(X_scaled)\n",
    "    _, indices = knn.kneighbors(X_scaled)\n",
    "\n",
    "    prec_k = precision_at_k(indices, cluster_labels, k=6)\n",
    "    prec_at_k_scores.append(prec_k)\n",
    "\n",
    "plt.figure(figsize=(10, 5))\n",
    "plt.plot(k_values, sil_scores, label=\"Silhouette Score\", marker='o')\n",
    "plt.plot(k_values, prec_at_k_scores, label=\"Precision@k\", marker='o')\n",
    "plt.title(\"Silhouette Score and Precision@k vs Number of Clusters\")\n",
    "plt.xlabel(\"Number of Clusters\")\n",
    "plt.ylabel(\"Score\")\n",
    "plt.legend()\n",
    "plt.grid(True)\n",
    "plt.show()"
   ]
  },
  {
   "cell_type": "code",
   "execution_count": 723,
   "metadata": {},
   "outputs": [],
   "source": [
    "knn = NearestNeighbors(n_neighbors=6, metric='cosine') \n",
    "knn.fit(X_reduced)\n",
    "distances, indices = knn.kneighbors(X_reduced)\n",
    "\n",
    "poiu_similarity_dict = {}\n",
    "\n",
    "for i in range(len(poiu_ids)):\n",
    "    neighbors = []\n",
    "    for j in range(1,6): \n",
    "        neighbor_index = indices[i][j]\n",
    "        neighbor_id = poiu_ids.iloc[neighbor_index]\n",
    "        similarity = 1 - distances[i][j]\n",
    "        similarity_pct = round(similarity * 100, 2)\n",
    "        neighbors.append({'poiu_id': neighbor_id, 'similarity_pct': similarity_pct})\n",
    "    \n",
    "    poiu_similarity_dict[poiu_ids.iloc[i]] = neighbors"
   ]
  },
  {
   "cell_type": "code",
   "execution_count": 724,
   "metadata": {},
   "outputs": [],
   "source": [
    "rows = []\n",
    "\n",
    "for main_id, neighbors in poiu_similarity_dict.items():\n",
    "    row = {'poiu_id': main_id}\n",
    "    for idx, neighbor in enumerate(neighbors, start=1):\n",
    "        row[f'neighbor_{idx}'] = neighbor['poiu_id']\n",
    "        row[f'similarity_{idx}'] = neighbor['similarity_pct']\n",
    "    rows.append(row)\n",
    "\n",
    "poiu_neighbors_df = pd.DataFrame(rows)"
   ]
  },
  {
   "cell_type": "code",
   "execution_count": 727,
   "metadata": {},
   "outputs": [],
   "source": [
    "poiu_neighbors_df.to_csv('similarity_penalty_kill_2023.csv', index=False)"
   ]
  },
  {
   "cell_type": "markdown",
   "metadata": {},
   "source": [
    "### Method on MoneyPuck Data"
   ]
  },
  {
   "cell_type": "code",
   "execution_count": null,
   "metadata": {},
   "outputs": [],
   "source": [
    "lines = pd.read_csv(\"lines.csv\") "
   ]
  },
  {
   "cell_type": "code",
   "execution_count": 313,
   "metadata": {},
   "outputs": [],
   "source": [
    "feature_columns = [\n",
    "    \"xGoalsPercentage\", \"corsiPercentage\", \"fenwickPercentage\", \"xOnGoalFor\",\n",
    "    \"xGoalsFor\", \"shotsOnGoalFor\", \"blockedShotAttemptsFor\", \"hitsFor\", \n",
    "    \"takeawaysFor\", \"giveawaysFor\"\n",
    "]"
   ]
  },
  {
   "cell_type": "code",
   "execution_count": null,
   "metadata": {},
   "outputs": [],
   "source": [
    "# Filter the lines to used features and scale the dataframe\n",
    "X = lines[feature_columns]\n",
    "scaler = StandardScaler()\n",
    "X_scaled = scaler.fit_transform(X)"
   ]
  },
  {
   "cell_type": "code",
   "execution_count": null,
   "metadata": {},
   "outputs": [
    {
     "name": "stdout",
     "output_type": "stream",
     "text": [
      "0.4444131485608894\n",
      "0.9182496607869742\n"
     ]
    }
   ],
   "source": [
    "# Baseline values of 5 clusters/neighbors more testing needed\n",
    "num_clusters = 5\n",
    "kmeans = KMeans(n_clusters=num_clusters)\n",
    "cluster_labels = kmeans.fit_predict(X_scaled)  \n",
    "\n",
    "num_neighbors = 5\n",
    "knn = NearestNeighbors(n_neighbors=num_neighbors+1, metric='cosine') # use cosine similarity to \"normalize\" data\n",
    "knn.fit(X_scaled)\n",
    "_, indices = knn.kneighbors(X_scaled)\n",
    "\n",
    "# Get the KNN label for each line combination and add to list\n",
    "knn_labels = []\n",
    "for i in range(len(lines)):\n",
    "    knn_labels.append(cluster_labels[indices[i][0]])  \n",
    "\n",
    "# Calculate silhoutte score from KNN\n",
    "silhouette_knn = silhouette_score(X_scaled, knn_labels, metric=\"cosine\")\n",
    "\n",
    "#Calculate precision at k (function above)\n",
    "precision_k = precision_at_k(indices, cluster_labels, num_neighbors)\n",
    "\n",
    "print(silhouette_knn)\n",
    "print(precision_k)"
   ]
  },
  {
   "cell_type": "code",
   "execution_count": null,
   "metadata": {},
   "outputs": [
    {
     "name": "stdout",
     "output_type": "stream",
     "text": [
      "Main Line\n",
      "Players: Luostarinen-Lundell-Reinhart\n",
      "    Similar Line\n",
      "    Players: Necas-Drury-Noesen\n",
      "    Similar Line\n",
      "    Players: Bratt-Toffoli-Hughes\n",
      "    Similar Line\n",
      "    Players: Bertuzzi-Matthews-Domi\n",
      "    Similar Line\n",
      "    Players: Forsling-Montour\n",
      "    Similar Line\n",
      "    Players: Guentzel-Aho-Jarvis\n",
      "Main Line\n",
      "Players: Lindell-Hakanp\n",
      "    Similar Line\n",
      "    Players: Romanov-Dobson\n",
      "    Similar Line\n",
      "    Players: Dahlin-Samuelsson\n",
      "    Similar Line\n",
      "    Players: York-Sanheim\n",
      "    Similar Line\n",
      "    Players: Valimaki-Kesselring\n",
      "    Similar Line\n",
      "    Players: Gostisbehere-Maatta\n",
      "Main Line\n",
      "Players: Kunin-Granlund-Zadina\n",
      "    Similar Line\n",
      "    Players: Girgensons-Cozens-Okposo\n",
      "    Similar Line\n",
      "    Players: Eklund-Bordeleau-Hoffman\n",
      "    Similar Line\n",
      "    Players: Hirose-Juulsen\n",
      "    Similar Line\n",
      "    Players: Pyyhtia-Danforth-Olivier\n",
      "    Similar Line\n",
      "    Players: Zetterlund-Sturm-Hoffman\n",
      "Main Line\n",
      "Players: Krug-Leddy\n",
      "    Similar Line\n",
      "    Players: Lacombe-Lyubushkin\n",
      "    Similar Line\n",
      "    Players: Kubalik-Ostapchuk-Joseph\n",
      "    Similar Line\n",
      "    Players: Raymond-Veleno-Fabbri\n",
      "    Similar Line\n",
      "    Players: Mantha-Mcmichael-Oshie\n",
      "    Similar Line\n",
      "    Players: Saad-Schenn-Kapanen\n",
      "Main Line\n",
      "Players: Marner-Matthews-Nylander\n",
      "    Similar Line\n",
      "    Players: Sanderson-Brannstrom\n",
      "    Similar Line\n",
      "    Players: Guentzel-Crosby-Hinostroza\n",
      "    Similar Line\n",
      "    Players: Joshua-Pettersson-Garland\n",
      "    Similar Line\n",
      "    Players: Svechnikov-Drury-Noesen\n",
      "    Similar Line\n",
      "    Players: Vesey-Brodzinski-Cuylle\n"
     ]
    }
   ],
   "source": [
    "# Finds the five most similar lines for each line and store in dictionary\n",
    "similar_lines = {lines[\"lineId\"].iloc[i]: list(lines[\"lineId\"].iloc[indices[i][1:]]) for i in range(len(lines))}\n",
    "\n",
    "num_lines = 0\n",
    "\n",
    "# Print a few example similar lines\n",
    "for line, similar in similar_lines.items():\n",
    "    if num_lines < 5:\n",
    "        print(f\"Main Line\")\n",
    "        print(f\"Players: {lines[lines[\"lineId\"]==line].name.values[0]}\")\n",
    "        for sim in similar:\n",
    "            print(f\"    Similar Line\")\n",
    "            print(f\"    Players: {lines[lines[\"lineId\"]==sim].name.values[0]}\")\n",
    "        num_lines+= 1"
   ]
  },
  {
   "cell_type": "markdown",
   "metadata": {},
   "source": [
    "### Similarity Merged MoneyPuck Data"
   ]
  },
  {
   "cell_type": "code",
   "execution_count": 287,
   "metadata": {},
   "outputs": [],
   "source": [
    "lines_merged = pd.read_csv(\"linesMerged.csv\")\n"
   ]
  },
  {
   "cell_type": "code",
   "execution_count": 430,
   "metadata": {},
   "outputs": [],
   "source": [
    "X = lines_merged[feature_columns]\n",
    "scaler = StandardScaler()\n",
    "X_scaled = scaler.fit_transform(X)"
   ]
  },
  {
   "cell_type": "code",
   "execution_count": 432,
   "metadata": {},
   "outputs": [
    {
     "name": "stdout",
     "output_type": "stream",
     "text": [
      "0.22420530737938388\n",
      "0.9350764134726333\n"
     ]
    }
   ],
   "source": [
    "# Baseline values of 5 clusters/neighbors more testing needed\n",
    "num_clusters = 5\n",
    "kmeans = KMeans(n_clusters=num_clusters)\n",
    "cluster_labels = kmeans.fit_predict(X_scaled)  \n",
    "\n",
    "num_neighbors = 5\n",
    "knn = NearestNeighbors(n_neighbors=num_neighbors+1, metric='cosine') # use cosine similarity to \"normalize\" data\n",
    "knn.fit(X_scaled)\n",
    "_, indices = knn.kneighbors(X_scaled)\n",
    "\n",
    "# Get the KNN label for each line combination and add to list\n",
    "knn_labels = []\n",
    "for i in range(len(lines_merged)):\n",
    "    knn_labels.append(cluster_labels[indices[i][0]])  \n",
    "\n",
    "# Calculate silhoutte score from KNN\n",
    "silhouette_knn = silhouette_score(X_scaled, knn_labels, metric=\"cosine\")\n",
    "\n",
    "#Calculate precision at k (function above)\n",
    "precision_k = precision_at_k(indices, cluster_labels, num_neighbors)\n",
    "\n",
    "print(silhouette_knn)\n",
    "print(precision_k)"
   ]
  },
  {
   "cell_type": "code",
   "execution_count": null,
   "metadata": {},
   "outputs": [],
   "source": [
    "# Finds the five most similar lines for each line and store in dictionary\n",
    "similar_lines = {lines_merged[\"lineId\"].iloc[i]: list(lines_merged[\"lineId\"].iloc[indices[i][1:]]) for i in range(len(lines))}\n",
    "\n",
    "num_lines = 0\n",
    "\n",
    "# Print a few example similar lines\n",
    "for line, similar in similar_lines.items():\n",
    "    if num_lines < 5:\n",
    "        print(f\"Main Line\")\n",
    "        print(f\"Players: {lines_merged[lines_merged[\"lineId\"]==line].name.values[0]}\")\n",
    "        for sim in similar:\n",
    "            print(f\"    Similar Line\")\n",
    "            print(f\"    Players: {lines_merged[lines_merged[\"lineId\"]==sim].name.values[0]}\")\n",
    "        num_lines+= 1"
   ]
  },
  {
   "cell_type": "markdown",
   "metadata": {},
   "source": [
    "### Merge Data Together"
   ]
  },
  {
   "cell_type": "code",
   "execution_count": 607,
   "metadata": {},
   "outputs": [],
   "source": [
    "lines = pd.read_csv(\"lines.csv\")"
   ]
  },
  {
   "cell_type": "code",
   "execution_count": 608,
   "metadata": {},
   "outputs": [],
   "source": [
    "lines = lines[lines.situation=='5on5']"
   ]
  },
  {
   "cell_type": "code",
   "execution_count": 609,
   "metadata": {},
   "outputs": [],
   "source": [
    "d_lines = lines[lines.position == \"pairing\"].copy()\n",
    "o_lines = lines[lines.position == \"line\"].copy()"
   ]
  },
  {
   "cell_type": "code",
   "execution_count": 610,
   "metadata": {},
   "outputs": [],
   "source": [
    "o_lines.loc[:,'lineId'] = o_lines['lineId'].astype(str)\n",
    "o_lines.loc[:,'player1_id'] = o_lines['lineId'].str[0:7].astype(int)\n",
    "o_lines.loc[:,'player2_id'] = o_lines['lineId'].str[7:14].astype(int)\n",
    "o_lines.loc[:,'player3_id'] = o_lines['lineId'].str[14:21].astype(int)\n",
    "\n",
    "d_lines.loc[:,'lineId'] = d_lines['lineId'].astype(str)\n",
    "d_lines.loc[:,'player1_id'] = d_lines['lineId'].str[0:7].astype(int)\n",
    "d_lines.loc[:,'player2_id'] = d_lines['lineId'].str[7:14].astype(int)"
   ]
  },
  {
   "cell_type": "code",
   "execution_count": 611,
   "metadata": {},
   "outputs": [],
   "source": [
    "shot_data = pd.read_csv(\"shot_data_with_poiu.csv\")\n",
    "shot_data = shot_data[shot_data.situation == '5on5']"
   ]
  },
  {
   "cell_type": "code",
   "execution_count": 612,
   "metadata": {},
   "outputs": [],
   "source": [
    "shot_data[\"player_one_id\"] = shot_data.player_one_id.astype(int)\n",
    "shot_data[\"player_two_id\"] = shot_data.player_two_id.astype(int)\n",
    "shot_data[\"player_three_id\"] = shot_data.player_three_id.astype(int)\n",
    "shot_data[\"player_four_id\"] = shot_data.player_four_id.astype(int)\n",
    "shot_data[\"player_five_id\"] = shot_data.player_five_id.astype(int)\n",
    "shot_data[\"player_one_id.1\"] = shot_data[\"player_one_id.1\"].astype(int)\n",
    "shot_data[\"player_two_id.1\"] = shot_data[\"player_two_id.1\"].astype(int)\n",
    "shot_data[\"player_three_id.1\"] = shot_data[\"player_three_id.1\"].astype(int)\n",
    "shot_data[\"player_four_id.1\"] = shot_data[\"player_four_id.1\"].astype(int)\n",
    "shot_data[\"player_five_id.1\"] = shot_data[\"player_five_id.1\"].astype(int)"
   ]
  },
  {
   "cell_type": "code",
   "execution_count": 613,
   "metadata": {},
   "outputs": [],
   "source": [
    "shot_data['offense_set'] = shot_data[['player_one_id', 'player_two_id', 'player_three_id', \"player_four_id\", \"player_five_id\"]].apply(\n",
    "    lambda row: tuple(sorted([row['player_one_id'], row['player_two_id'], row['player_three_id'], row[\"player_four_id\"], row[\"player_five_id\"]])),\n",
    "    axis=1\n",
    ")\n",
    "\n",
    "shot_data['defense_set'] = shot_data[['player_one_id.1', 'player_two_id.1', 'player_three_id.1', \"player_four_id.1\", \"player_five_id.1\"]].apply(\n",
    "    lambda row: tuple(sorted([row['player_one_id.1'], row['player_two_id.1'], row['player_three_id.1'], row[\"player_four_id.1\"], row[\"player_five_id.1\"]])),\n",
    "    axis=1\n",
    ")"
   ]
  },
  {
   "cell_type": "code",
   "execution_count": 614,
   "metadata": {},
   "outputs": [],
   "source": [
    "o_lines['forward_set'] = o_lines[['player1_id', 'player2_id', 'player3_id']].apply(\n",
    "    lambda row: tuple(sorted([row['player1_id'], row['player2_id'], row['player3_id']])),\n",
    "    axis=1\n",
    ")\n",
    "d_lines['defense_set'] = d_lines[['player1_id', 'player2_id']].apply(\n",
    "    lambda row: tuple(sorted([row['player1_id'], row['player2_id']])),\n",
    "    axis=1\n",
    ")"
   ]
  },
  {
   "cell_type": "code",
   "execution_count": 615,
   "metadata": {},
   "outputs": [],
   "source": [
    "feature_columns = [\n",
    "    \"xGoalsPercentage\", \"corsiPercentage\", \"fenwickPercentage\", \"xOnGoalFor\",\n",
    "    \"xGoalsFor\", \"shotsOnGoalFor\", \"blockedShotAttemptsFor\", \"hitsFor\", \n",
    "    \"takeawaysFor\", \"giveawaysFor\"\n",
    "]\n",
    "id_columns = [\"player1_id\", \"player2_id\", \"player3_id\", \"forward_set\", \"name\"]\n",
    "id_columns_def = [\"player1_id\", \"player2_id\", \"defense_set\", \"name\"]"
   ]
  },
  {
   "cell_type": "code",
   "execution_count": 616,
   "metadata": {},
   "outputs": [],
   "source": [
    "o_lines = o_lines[feature_columns + id_columns].copy()\n",
    "d_lines = d_lines[feature_columns + id_columns_def].copy()"
   ]
  },
  {
   "cell_type": "code",
   "execution_count": 618,
   "metadata": {},
   "outputs": [],
   "source": [
    "offense_cols = [\n",
    "    'shooting_poiu_id', 'xGoal', 'goal','shotDistance',\"offense_set\",\n",
    "    'shotRebound', 'shotRush', 'shotWasOnGoal'\n",
    "]\n",
    "\n",
    "defense_cols = [\n",
    "    'defending_poiu_id', 'xGoal', 'goal', 'shotDistance',\"defense_set\",\n",
    "    'shotRebound', 'shotRush','shotWasOnGoal',\n",
    "]\n",
    "\n",
    "df_encoded = pd.get_dummies(shot_data, columns=['shotType'])\n",
    "\n",
    "offensive_stats = (\n",
    "    df_encoded[offense_cols + [col for col in df_encoded.columns if col.startswith('shotType_')]]\n",
    "    .groupby(['shooting_poiu_id', \"offense_set\"])\n",
    "    .agg(['mean', 'sum']) \n",
    ")\n",
    "\n",
    "defensive_stats = (\n",
    "    df_encoded[defense_cols + [col for col in df_encoded.columns if col.startswith('shotType_')]]\n",
    "    .groupby(['defending_poiu_id', \"defense_set\"])\n",
    "    .agg(['mean', 'sum'])\n",
    ")"
   ]
  },
  {
   "cell_type": "code",
   "execution_count": 619,
   "metadata": {},
   "outputs": [],
   "source": [
    "offensive_stats.columns = [f\"{col[0]}_{col[1]}\" for col in offensive_stats.columns]\n",
    "offensive_stats['num_shots'] = shot_data.groupby('shooting_poiu_id').size()\n",
    "offensive_stats.reset_index(inplace=True)\n",
    "\n",
    "defensive_stats.columns = [f\"{col[0]}_{col[1]}\" for col in defensive_stats.columns]\n",
    "defensive_stats['num_shots'] = shot_data.groupby('defending_poiu_id').size()\n",
    "defensive_stats.reset_index(inplace=True)\n"
   ]
  },
  {
   "cell_type": "code",
   "execution_count": 620,
   "metadata": {},
   "outputs": [],
   "source": [
    "offensive_stats.rename(columns={\"shooting_poiu_id\": \"poiu_id\"}, inplace=True)\n",
    "defensive_stats.rename(columns={\"defending_poiu_id\": \"poiu_id\"}, inplace=True)\n"
   ]
  },
  {
   "cell_type": "code",
   "execution_count": 621,
   "metadata": {},
   "outputs": [],
   "source": [
    "merged_df = pd.merge(\n",
    "    offensive_stats, defensive_stats, \n",
    "    on = \"poiu_id\",\n",
    "    how=\"outer\", suffixes=('_offense', '_defense'))\n",
    "merged_df.fillna(0, inplace=True)"
   ]
  },
  {
   "cell_type": "code",
   "execution_count": 622,
   "metadata": {},
   "outputs": [],
   "source": [
    "merged_df[\"corsi\"] = merged_df[\"num_shots_offense\"] - merged_df[\"num_shots_defense\"]"
   ]
  },
  {
   "cell_type": "code",
   "execution_count": 623,
   "metadata": {},
   "outputs": [
    {
     "data": {
      "text/html": [
       "<div>\n",
       "<style scoped>\n",
       "    .dataframe tbody tr th:only-of-type {\n",
       "        vertical-align: middle;\n",
       "    }\n",
       "\n",
       "    .dataframe tbody tr th {\n",
       "        vertical-align: top;\n",
       "    }\n",
       "\n",
       "    .dataframe thead th {\n",
       "        text-align: right;\n",
       "    }\n",
       "</style>\n",
       "<table border=\"1\" class=\"dataframe\">\n",
       "  <thead>\n",
       "    <tr style=\"text-align: right;\">\n",
       "      <th></th>\n",
       "      <th>offense_set</th>\n",
       "      <th>defense_set</th>\n",
       "    </tr>\n",
       "  </thead>\n",
       "  <tbody>\n",
       "    <tr>\n",
       "      <th>0</th>\n",
       "      <td>(8471686, 8477499, 8480068, 8480220, 8480797)</td>\n",
       "      <td>(8471686, 8477499, 8480068, 8480220, 8480797)</td>\n",
       "    </tr>\n",
       "    <tr>\n",
       "      <th>1</th>\n",
       "      <td>(8476429, 8477500, 8478445, 8480865, 8481601)</td>\n",
       "      <td>(8476429, 8477500, 8478445, 8480865, 8481601)</td>\n",
       "    </tr>\n",
       "    <tr>\n",
       "      <th>2</th>\n",
       "      <td>(8476539, 8477018, 8477964, 8478403, 8481167)</td>\n",
       "      <td>(8476539, 8477018, 8477964, 8478403, 8481167)</td>\n",
       "    </tr>\n",
       "    <tr>\n",
       "      <th>3</th>\n",
       "      <td>(8476329, 8477070, 8479442, 8480891, 8481711)</td>\n",
       "      <td>(8476329, 8477070, 8479442, 8480891, 8481711)</td>\n",
       "    </tr>\n",
       "    <tr>\n",
       "      <th>4</th>\n",
       "      <td>(8474150, 8476399, 8476456, 8477346, 8478397)</td>\n",
       "      <td>(8474150, 8476399, 8476456, 8477346, 8478397)</td>\n",
       "    </tr>\n",
       "    <tr>\n",
       "      <th>...</th>\n",
       "      <td>...</td>\n",
       "      <td>...</td>\n",
       "    </tr>\n",
       "    <tr>\n",
       "      <th>44569</th>\n",
       "      <td>(8476927, 8479425, 8480459, 8480800, 8481624)</td>\n",
       "      <td>0</td>\n",
       "    </tr>\n",
       "    <tr>\n",
       "      <th>44570</th>\n",
       "      <td>0</td>\n",
       "      <td>(8476448, 8476881, 8478020, 8478396, 8479980)</td>\n",
       "    </tr>\n",
       "    <tr>\n",
       "      <th>44571</th>\n",
       "      <td>0</td>\n",
       "      <td>(8474013, 8474574, 8476927, 8478444, 8481624)</td>\n",
       "    </tr>\n",
       "    <tr>\n",
       "      <th>44572</th>\n",
       "      <td>(8477507, 8478043, 8480800, 8481617, 8482496)</td>\n",
       "      <td>0</td>\n",
       "    </tr>\n",
       "    <tr>\n",
       "      <th>44573</th>\n",
       "      <td>0</td>\n",
       "      <td>(8477511, 8478396, 8479353, 8479980, 8481032)</td>\n",
       "    </tr>\n",
       "  </tbody>\n",
       "</table>\n",
       "<p>44574 rows × 2 columns</p>\n",
       "</div>"
      ],
      "text/plain": [
       "                                         offense_set  \\\n",
       "0      (8471686, 8477499, 8480068, 8480220, 8480797)   \n",
       "1      (8476429, 8477500, 8478445, 8480865, 8481601)   \n",
       "2      (8476539, 8477018, 8477964, 8478403, 8481167)   \n",
       "3      (8476329, 8477070, 8479442, 8480891, 8481711)   \n",
       "4      (8474150, 8476399, 8476456, 8477346, 8478397)   \n",
       "...                                              ...   \n",
       "44569  (8476927, 8479425, 8480459, 8480800, 8481624)   \n",
       "44570                                              0   \n",
       "44571                                              0   \n",
       "44572  (8477507, 8478043, 8480800, 8481617, 8482496)   \n",
       "44573                                              0   \n",
       "\n",
       "                                         defense_set  \n",
       "0      (8471686, 8477499, 8480068, 8480220, 8480797)  \n",
       "1      (8476429, 8477500, 8478445, 8480865, 8481601)  \n",
       "2      (8476539, 8477018, 8477964, 8478403, 8481167)  \n",
       "3      (8476329, 8477070, 8479442, 8480891, 8481711)  \n",
       "4      (8474150, 8476399, 8476456, 8477346, 8478397)  \n",
       "...                                              ...  \n",
       "44569                                              0  \n",
       "44570  (8476448, 8476881, 8478020, 8478396, 8479980)  \n",
       "44571  (8474013, 8474574, 8476927, 8478444, 8481624)  \n",
       "44572                                              0  \n",
       "44573  (8477511, 8478396, 8479353, 8479980, 8481032)  \n",
       "\n",
       "[44574 rows x 2 columns]"
      ]
     },
     "execution_count": 623,
     "metadata": {},
     "output_type": "execute_result"
    }
   ],
   "source": [
    "merged_df[[\"offense_set\", \"defense_set\"]]"
   ]
  },
  {
   "cell_type": "code",
   "execution_count": 624,
   "metadata": {},
   "outputs": [],
   "source": [
    "o_lines = o_lines.add_suffix('_forward_line')\n",
    "d_lines = d_lines.add_suffix('_defense_line')"
   ]
  },
  {
   "cell_type": "code",
   "execution_count": 626,
   "metadata": {},
   "outputs": [],
   "source": [
    "offense_matches = []\n",
    "defense_matches = []\n",
    "\n",
    "for idx, row in merged_df.iterrows():\n",
    "    row_players = row['offense_set']\n",
    "    if row_players == 0:\n",
    "        row_players = row[\"defense_set\"]\n",
    "    matching_o = o_lines[o_lines['forward_set_forward_line'].apply(lambda s: set(s).issubset(row_players))]\n",
    "    if not matching_o.empty:\n",
    "        offense_data = matching_o.iloc[0].drop(['player1_id_forward_line', 'player2_id_forward_line', 'player3_id_forward_line'])\n",
    "        offense_matches.append(offense_data)\n",
    "    else:\n",
    "        offense_matches.append(pd.Series(index=o_lines.columns.drop(['player1_id_forward_line', 'player2_id_forward_line', 'player3_id_forward_line'])))\n",
    "\n",
    "    matching_d = d_lines[d_lines['defense_set_defense_line'].apply(lambda s: set(s).issubset(row_players))]\n",
    "    if not matching_d.empty:\n",
    "        defense_data = matching_d.iloc[0].drop(['player1_id_defense_line', 'player2_id_defense_line'])\n",
    "        defense_matches.append(defense_data)\n",
    "    else:\n",
    "        defense_matches.append(pd.Series(index=d_lines.columns.drop(['player1_id_defense_line', 'player2_id_defense_line'])))"
   ]
  },
  {
   "cell_type": "code",
   "execution_count": 627,
   "metadata": {},
   "outputs": [],
   "source": [
    "offense_df = pd.DataFrame(offense_matches)\n",
    "defense_df = pd.DataFrame(defense_matches)"
   ]
  },
  {
   "cell_type": "code",
   "execution_count": 628,
   "metadata": {},
   "outputs": [],
   "source": [
    "final_df = pd.concat([merged_df.reset_index(drop=True), offense_df.reset_index(drop=True), defense_df.reset_index(drop=True)], axis=1)"
   ]
  },
  {
   "cell_type": "code",
   "execution_count": 639,
   "metadata": {},
   "outputs": [],
   "source": [
    "drop_columns = [\"forward_set_forward_line\", 'defense_set_defense_line', 'offense_set', 'defense_set', 'poiu_id',\"name_forward_line\", \"name_defense_line\"]"
   ]
  },
  {
   "cell_type": "code",
   "execution_count": 647,
   "metadata": {},
   "outputs": [],
   "source": [
    "cleaned_final = final_df.dropna().reset_index(drop=True)\n",
    "temp_final = cleaned_final.drop(columns= drop_columns)"
   ]
  },
  {
   "cell_type": "code",
   "execution_count": 659,
   "metadata": {},
   "outputs": [
    {
     "data": {
      "text/plain": [
       "Index(['poiu_id', 'offense_set', 'xGoal_mean_offense', 'xGoal_sum_offense',\n",
       "       'goal_mean_offense', 'goal_sum_offense', 'shotDistance_mean_offense',\n",
       "       'shotDistance_sum_offense', 'shotRebound_mean_offense',\n",
       "       'shotRebound_sum_offense', 'shotRush_mean_offense',\n",
       "       'shotRush_sum_offense', 'shotWasOnGoal_mean_offense',\n",
       "       'shotWasOnGoal_sum_offense', 'shotType_BACK_mean_offense',\n",
       "       'shotType_BACK_sum_offense', 'shotType_DEFL_mean_offense',\n",
       "       'shotType_DEFL_sum_offense', 'shotType_SLAP_mean_offense',\n",
       "       'shotType_SLAP_sum_offense', 'shotType_SNAP_mean_offense',\n",
       "       'shotType_SNAP_sum_offense', 'shotType_TIP_mean_offense',\n",
       "       'shotType_TIP_sum_offense', 'shotType_WRAP_mean_offense',\n",
       "       'shotType_WRAP_sum_offense', 'shotType_WRIST_mean_offense',\n",
       "       'shotType_WRIST_sum_offense', 'num_shots_offense', 'defense_set',\n",
       "       'xGoal_mean_defense', 'xGoal_sum_defense', 'goal_mean_defense',\n",
       "       'goal_sum_defense', 'shotDistance_mean_defense',\n",
       "       'shotDistance_sum_defense', 'shotRebound_mean_defense',\n",
       "       'shotRebound_sum_defense', 'shotRush_mean_defense',\n",
       "       'shotRush_sum_defense', 'shotWasOnGoal_mean_defense',\n",
       "       'shotWasOnGoal_sum_defense', 'shotType_BACK_mean_defense',\n",
       "       'shotType_BACK_sum_defense', 'shotType_DEFL_mean_defense',\n",
       "       'shotType_DEFL_sum_defense', 'shotType_SLAP_mean_defense',\n",
       "       'shotType_SLAP_sum_defense', 'shotType_SNAP_mean_defense',\n",
       "       'shotType_SNAP_sum_defense', 'shotType_TIP_mean_defense',\n",
       "       'shotType_TIP_sum_defense', 'shotType_WRAP_mean_defense',\n",
       "       'shotType_WRAP_sum_defense', 'shotType_WRIST_mean_defense',\n",
       "       'shotType_WRIST_sum_defense', 'num_shots_defense', 'corsi',\n",
       "       'xGoalsPercentage_forward_line', 'corsiPercentage_forward_line',\n",
       "       'fenwickPercentage_forward_line', 'xOnGoalFor_forward_line',\n",
       "       'xGoalsFor_forward_line', 'shotsOnGoalFor_forward_line',\n",
       "       'blockedShotAttemptsFor_forward_line', 'hitsFor_forward_line',\n",
       "       'takeawaysFor_forward_line', 'giveawaysFor_forward_line',\n",
       "       'forward_set_forward_line', 'name_forward_line',\n",
       "       'xGoalsPercentage_defense_line', 'corsiPercentage_defense_line',\n",
       "       'fenwickPercentage_defense_line', 'xOnGoalFor_defense_line',\n",
       "       'xGoalsFor_defense_line', 'shotsOnGoalFor_defense_line',\n",
       "       'blockedShotAttemptsFor_defense_line', 'hitsFor_defense_line',\n",
       "       'takeawaysFor_defense_line', 'giveawaysFor_defense_line',\n",
       "       'defense_set_defense_line', 'name_defense_line'],\n",
       "      dtype='object')"
      ]
     },
     "execution_count": 659,
     "metadata": {},
     "output_type": "execute_result"
    }
   ],
   "source": [
    "final_df.columns"
   ]
  },
  {
   "cell_type": "code",
   "execution_count": 648,
   "metadata": {},
   "outputs": [],
   "source": [
    "X = temp_final\n",
    "scaler = StandardScaler()\n",
    "X_scaled = scaler.fit_transform(X)"
   ]
  },
  {
   "cell_type": "code",
   "execution_count": 649,
   "metadata": {},
   "outputs": [
    {
     "name": "stdout",
     "output_type": "stream",
     "text": [
      "0.10033567616560218\n",
      "0.672835538752363\n"
     ]
    }
   ],
   "source": [
    "# Baseline values of 5 clusters/neighbors more testing needed\n",
    "num_clusters = 100\n",
    "kmeans = KMeans(n_clusters=num_clusters)\n",
    "cluster_labels = kmeans.fit_predict(X_scaled)  \n",
    "\n",
    "num_neighbors = 5\n",
    "knn = NearestNeighbors(n_neighbors=num_neighbors+1, metric='cosine') # use cosine similarity to \"normalize\" data\n",
    "knn.fit(X_scaled)\n",
    "_, indices = knn.kneighbors(X_scaled)\n",
    "\n",
    "# Get the KNN label for each line combination and add to list\n",
    "knn_labels = []\n",
    "for i in range(len(X)):\n",
    "    knn_labels.append(cluster_labels[indices[i][0]])  \n",
    "\n",
    "# Calculate silhoutte score from KNN\n",
    "silhouette_knn = silhouette_score(X_scaled, knn_labels, metric=\"cosine\")\n",
    "\n",
    "#Calculate precision at k (function above)\n",
    "precision_k = precision_at_k(indices, cluster_labels, num_neighbors)\n",
    "\n",
    "print(silhouette_knn)\n",
    "print(precision_k)"
   ]
  },
  {
   "cell_type": "code",
   "execution_count": 657,
   "metadata": {},
   "outputs": [],
   "source": [
    "cleaned_final = cleaned_final.sort_values(\"goal_sum_offense\", ascending = False)"
   ]
  },
  {
   "cell_type": "code",
   "execution_count": 658,
   "metadata": {},
   "outputs": [
    {
     "name": "stdout",
     "output_type": "stream",
     "text": [
      "Main Line\n",
      "Forwards: Hyman-Mcdavid-Nugent-Hopkins\n",
      "Defense: Ekholm-Bouchard\n",
      "    Similar Line\n",
      "    Forwards: Howden-Stephenson-Amadio\n",
      "    Defense: Pietrangelo-Whitecloud\n",
      "    Similar Line\n",
      "    Forwards: Knies-Minten-Jarnkrok\n",
      "    Defense: Giordano-Liljegren\n",
      "    Similar Line\n",
      "    Forwards: Meyer-Gaunce-Olivier\n",
      "    Defense: Werenski-Gudbranson\n",
      "    Similar Line\n",
      "    Forwards: Rodrigues-Barkov-Samoskevich\n",
      "    Defense: Ekman-Larsson-Kulikov\n",
      "    Similar Line\n",
      "    Forwards: Benson-Cozens-Robinson\n",
      "    Defense: Power-Jokiharju\n",
      "Main Line\n",
      "Forwards: Hyman-Draisaitl-Mcdavid\n",
      "Defense: Ekholm-Bouchard\n",
      "    Similar Line\n",
      "    Forwards: Roy-Newhook-Anderson\n",
      "    Defense: Savard-Struble\n",
      "    Similar Line\n",
      "    Forwards: Armia-Newhook-Roy\n",
      "    Defense: Xhekaj-Savard\n",
      "    Similar Line\n",
      "    Forwards: Mercer-Lazar-Holtz\n",
      "    Defense: Hughes-Bahl\n",
      "    Similar Line\n",
      "    Forwards: Cooley-Hayton-Guenther\n",
      "    Defense: Valimaki-Dermott\n",
      "    Similar Line\n",
      "    Forwards: Reichel-Bedard-Kurashev\n",
      "    Defense: Murphy-Kaiser\n",
      "Main Line\n",
      "Forwards: Lafrenire-Trocheck-Panarin\n",
      "Defense: Lindgren-Fox\n",
      "    Similar Line\n",
      "    Forwards: Olivier-Kuraly-Danforth\n",
      "    Defense: Provorov-Bean\n",
      "    Similar Line\n",
      "    Forwards: Eklund-Sturm-Kunin\n",
      "    Defense: Vlasic-Emberson\n",
      "    Similar Line\n",
      "    Forwards: Raymond-Larkin-Veleno\n",
      "    Defense: Chiarot-Seider\n",
      "    Similar Line\n",
      "    Forwards: Heinen-Frederic-Poitras\n",
      "    Defense: Grzelcyk-Mcavoy\n",
      "    Similar Line\n",
      "    Forwards: Sheary-Glendening-Eyssimont\n",
      "    Defense: De Haan-Raddysh\n",
      "Main Line\n",
      "Forwards: Drouin-Mackinnon-Rantanen\n",
      "Defense: Toews-Makar\n",
      "    Similar Line\n",
      "    Forwards: Foerster-Laughton-Tippett\n",
      "    Defense: Seeler-Walker\n",
      "    Similar Line\n",
      "    Forwards: Tippett-Frost-Brink\n",
      "    Defense: York-Sanheim\n",
      "    Similar Line\n",
      "    Forwards: Draisaitl-Mcdavid-Brown\n",
      "    Defense: Ekholm-Bouchard\n",
      "    Similar Line\n",
      "    Forwards: Wood-Mackinnon-Rantanen\n",
      "    Defense: Byram-Manson\n",
      "    Similar Line\n",
      "    Forwards: Marchment-Seguin-Duchene\n",
      "    Defense: Heiskanen-Suter\n",
      "Main Line\n",
      "Forwards: Forsberg-O'Reilly-Nyquist\n",
      "Defense: Lauzon-Carrier\n",
      "    Similar Line\n",
      "    Forwards: Shore-Bellemare-Yamamoto\n",
      "    Defense: Oleksiak-Borgen\n",
      "    Similar Line\n",
      "    Forwards: Palat-Hischier-Bratt\n",
      "    Defense: Bahl-Marino\n",
      "    Similar Line\n",
      "    Forwards: Raymond-Larkin-Debrincat\n",
      "    Defense: Chiarot-Seider\n",
      "    Similar Line\n",
      "    Forwards: Hughes-Toffoli-Holtz\n",
      "    Defense: Hughes-Marino\n",
      "    Similar Line\n",
      "    Forwards: Guentzel-Aho-Jarvis\n",
      "    Defense: Slavin-Pesce\n"
     ]
    }
   ],
   "source": [
    "# Finds the five most similar lines for each line and store in dictionary\n",
    "similar_lines = {cleaned_final[\"poiu_id\"].iloc[i]: list(cleaned_final[\"poiu_id\"].iloc[indices[i][1:]]) for i in range(len(lines))}\n",
    "\n",
    "num_lines = 0\n",
    "\n",
    "# Print a few example similar lines\n",
    "for line, similar in similar_lines.items():\n",
    "    if num_lines < 5:\n",
    "        print(f\"Main Line\")\n",
    "        print(f\"Forwards: {cleaned_final[cleaned_final[\"poiu_id\"]==line].name_forward_line.values[0]}\")\n",
    "        print(f\"Defense: {cleaned_final[cleaned_final[\"poiu_id\"]==line].name_defense_line.values[0]}\")\n",
    "        for sim in similar:\n",
    "            print(f\"    Similar Line\")\n",
    "            print(f\"    Forwards: {cleaned_final[cleaned_final[\"poiu_id\"]==sim].name_forward_line.values[0]}\")\n",
    "            print(f\"    Defense: {cleaned_final[cleaned_final[\"poiu_id\"]==sim].name_defense_line.values[0]}\")\n",
    "        num_lines+= 1"
   ]
  },
  {
   "cell_type": "code",
   "execution_count": null,
   "metadata": {},
   "outputs": [],
   "source": []
  }
 ],
 "metadata": {
  "kernelspec": {
   "display_name": "Python 3",
   "language": "python",
   "name": "python3"
  },
  "language_info": {
   "codemirror_mode": {
    "name": "ipython",
    "version": 3
   },
   "file_extension": ".py",
   "mimetype": "text/x-python",
   "name": "python",
   "nbconvert_exporter": "python",
   "pygments_lexer": "ipython3",
   "version": "3.12.0"
  }
 },
 "nbformat": 4,
 "nbformat_minor": 2
}
