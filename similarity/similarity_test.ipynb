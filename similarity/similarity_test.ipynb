{
 "cells": [
  {
   "cell_type": "code",
   "execution_count": null,
   "metadata": {},
   "outputs": [],
   "source": [
    "import pandas as pd\n",
    "import numpy as np\n",
    "from sklearn.preprocessing import StandardScaler\n",
    "from sklearn.neighbors import NearestNeighbors\n",
    "from sklearn.cluster import KMeans\n",
    "from sklearn.metrics import silhouette_score"
   ]
  },
  {
   "cell_type": "code",
   "execution_count": 28,
   "metadata": {},
   "outputs": [],
   "source": [
    "lines = pd.read_csv(\"lines.csv\")"
   ]
  },
  {
   "cell_type": "code",
   "execution_count": 29,
   "metadata": {},
   "outputs": [],
   "source": [
    "lines = lines[lines.situation=='5on5']"
   ]
  },
  {
   "cell_type": "code",
   "execution_count": 30,
   "metadata": {},
   "outputs": [],
   "source": [
    "feature_columns = [\n",
    "    \"xGoalsPercentage\", \"corsiPercentage\", \"fenwickPercentage\", \"xOnGoalFor\",\n",
    "    \"xGoalsFor\", \"shotsOnGoalFor\", \"blockedShotAttemptsFor\", \"hitsFor\", \n",
    "    \"takeawaysFor\", \"giveawaysFor\"\n",
    "]"
   ]
  },
  {
   "cell_type": "code",
   "execution_count": null,
   "metadata": {},
   "outputs": [],
   "source": [
    "# Filter the lines to used features and scale the dataframe\n",
    "X = lines[feature_columns]\n",
    "scaler = StandardScaler()\n",
    "X_scaled = scaler.fit_transform(X)"
   ]
  },
  {
   "cell_type": "code",
   "execution_count": null,
   "metadata": {},
   "outputs": [],
   "source": [
    "# Function to calculate the precision of knn label predictions for the k nearest neighbors\n",
    "def precision_at_k(knn_indices, cluster_labels, k):\n",
    "    precision_scores = []\n",
    "    for i, neighbors in enumerate(knn_indices):\n",
    "        true_label = cluster_labels[i]\n",
    "        retrieved_labels = [cluster_labels[j] for j in neighbors[1:k+1]]  \n",
    "        relevant_count = sum(1 for label in retrieved_labels if label == true_label)\n",
    "        precision_scores.append(relevant_count / k)\n",
    "    return sum(precision_scores) / len(precision_scores)"
   ]
  },
  {
   "cell_type": "code",
   "execution_count": null,
   "metadata": {},
   "outputs": [
    {
     "name": "stdout",
     "output_type": "stream",
     "text": [
      "0.4444131485608894\n",
      "0.9182496607869742\n"
     ]
    }
   ],
   "source": [
    "# Baseline values of 5 clusters/neighbors more testing needed\n",
    "num_clusters = 5\n",
    "kmeans = KMeans(n_clusters=num_clusters)\n",
    "cluster_labels = kmeans.fit_predict(X_scaled)  \n",
    "\n",
    "num_neighbors = 5\n",
    "knn = NearestNeighbors(n_neighbors=num_neighbors+1, metric='cosine') # use cosine similarity to \"normalize\" data\n",
    "knn.fit(X_scaled)\n",
    "_, indices = knn.kneighbors(X_scaled)\n",
    "\n",
    "# Get the KNN label for each line combination and add to list\n",
    "knn_labels = []\n",
    "for i in range(len(lines)):\n",
    "    knn_labels.append(cluster_labels[indices[i][0]])  \n",
    "\n",
    "# Calculate silhoutte score from KNN\n",
    "silhouette_knn = silhouette_score(X_scaled, knn_labels, metric=\"cosine\")\n",
    "\n",
    "#Calculate precision at k (function above)\n",
    "precision_k = precision_at_k(indices, cluster_labels, num_neighbors)\n",
    "\n",
    "print(silhouette_knn)\n",
    "print(precision_k)"
   ]
  },
  {
   "cell_type": "code",
   "execution_count": null,
   "metadata": {},
   "outputs": [
    {
     "name": "stdout",
     "output_type": "stream",
     "text": [
      "Main Line\n",
      "Players: Luostarinen-Lundell-Reinhart\n",
      "    Similar Line\n",
      "    Players: Necas-Drury-Noesen\n",
      "    Similar Line\n",
      "    Players: Bratt-Toffoli-Hughes\n",
      "    Similar Line\n",
      "    Players: Bertuzzi-Matthews-Domi\n",
      "    Similar Line\n",
      "    Players: Forsling-Montour\n",
      "    Similar Line\n",
      "    Players: Guentzel-Aho-Jarvis\n",
      "Main Line\n",
      "Players: Lindell-Hakanp\n",
      "    Similar Line\n",
      "    Players: Romanov-Dobson\n",
      "    Similar Line\n",
      "    Players: Dahlin-Samuelsson\n",
      "    Similar Line\n",
      "    Players: York-Sanheim\n",
      "    Similar Line\n",
      "    Players: Valimaki-Kesselring\n",
      "    Similar Line\n",
      "    Players: Gostisbehere-Maatta\n",
      "Main Line\n",
      "Players: Kunin-Granlund-Zadina\n",
      "    Similar Line\n",
      "    Players: Girgensons-Cozens-Okposo\n",
      "    Similar Line\n",
      "    Players: Eklund-Bordeleau-Hoffman\n",
      "    Similar Line\n",
      "    Players: Hirose-Juulsen\n",
      "    Similar Line\n",
      "    Players: Pyyhtia-Danforth-Olivier\n",
      "    Similar Line\n",
      "    Players: Zetterlund-Sturm-Hoffman\n",
      "Main Line\n",
      "Players: Krug-Leddy\n",
      "    Similar Line\n",
      "    Players: Lacombe-Lyubushkin\n",
      "    Similar Line\n",
      "    Players: Kubalik-Ostapchuk-Joseph\n",
      "    Similar Line\n",
      "    Players: Raymond-Veleno-Fabbri\n",
      "    Similar Line\n",
      "    Players: Mantha-Mcmichael-Oshie\n",
      "    Similar Line\n",
      "    Players: Saad-Schenn-Kapanen\n",
      "Main Line\n",
      "Players: Marner-Matthews-Nylander\n",
      "    Similar Line\n",
      "    Players: Sanderson-Brannstrom\n",
      "    Similar Line\n",
      "    Players: Guentzel-Crosby-Hinostroza\n",
      "    Similar Line\n",
      "    Players: Joshua-Pettersson-Garland\n",
      "    Similar Line\n",
      "    Players: Svechnikov-Drury-Noesen\n",
      "    Similar Line\n",
      "    Players: Vesey-Brodzinski-Cuylle\n"
     ]
    }
   ],
   "source": [
    "# Finds the five most similar lines for each line and store in dictionary\n",
    "similar_lines = {lines[\"lineId\"].iloc[i]: list(lines[\"lineId\"].iloc[indices[i][1:]]) for i in range(len(lines))}\n",
    "\n",
    "num_lines = 0\n",
    "\n",
    "# Print a few example similar lines\n",
    "for line, similar in similar_lines.items():\n",
    "    if num_lines < 5:\n",
    "        print(f\"Main Line\")\n",
    "        print(f\"Players: {lines[lines[\"lineId\"]==line].name.values[0]}\")\n",
    "        for sim in similar:\n",
    "            print(f\"    Similar Line\")\n",
    "            print(f\"    Players: {lines[lines[\"lineId\"]==sim].name.values[0]}\")\n",
    "        num_lines+= 1"
   ]
  },
  {
   "cell_type": "code",
   "execution_count": null,
   "metadata": {},
   "outputs": [],
   "source": []
  }
 ],
 "metadata": {
  "kernelspec": {
   "display_name": "Python 3",
   "language": "python",
   "name": "python3"
  },
  "language_info": {
   "codemirror_mode": {
    "name": "ipython",
    "version": 3
   },
   "file_extension": ".py",
   "mimetype": "text/x-python",
   "name": "python",
   "nbconvert_exporter": "python",
   "pygments_lexer": "ipython3",
   "version": "3.12.0"
  }
 },
 "nbformat": 4,
 "nbformat_minor": 2
}
